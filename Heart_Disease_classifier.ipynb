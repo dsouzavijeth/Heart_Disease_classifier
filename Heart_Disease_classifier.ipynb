{
  "nbformat": 4,
  "nbformat_minor": 0,
  "metadata": {
    "colab": {
      "name": "Heart_Disease_classifier.ipynb",
      "provenance": [],
      "collapsed_sections": []
    },
    "kernelspec": {
      "name": "python3",
      "display_name": "Python 3"
    }
  },
  "cells": [
    {
      "cell_type": "code",
      "metadata": {
        "id": "w_9eEdMbloZ1",
        "colab_type": "code",
        "colab": {}
      },
      "source": [
        "# Importing necessary paackages\n",
        "import pandas as pd\n",
        "import numpy as np\n",
        "import matplotlib.pyplot as plt\n",
        "%matplotlib inline\n",
        "import seaborn as sns\n",
        "\n",
        "from sklearn.preprocessing import StandardScaler\n",
        "\n",
        "from scipy.stats import chi2_contingency\n",
        "\n",
        "from sklearn.model_selection import train_test_split, KFold, RepeatedKFold, StratifiedKFold\n",
        "from sklearn.model_selection import cross_val_score, cross_val_predict, GridSearchCV\n",
        "from sklearn.metrics import confusion_matrix, classification_report, accuracy_score\n",
        "\n",
        "from sklearn.linear_model import LogisticRegression\n",
        "from sklearn.naive_bayes import MultinomialNB\n",
        "from sklearn.ensemble import RandomForestClassifier\n",
        "from sklearn.svm import SVC\n",
        "from sklearn.tree import DecisionTreeClassifier\n",
        "from sklearn.neighbors import KNeighborsClassifier\n",
        "\n",
        "seed = 4353"
      ],
      "execution_count": 0,
      "outputs": []
    },
    {
      "cell_type": "code",
      "metadata": {
        "id": "VPRSX0IOzl4J",
        "colab_type": "code",
        "outputId": "a6626843-4761-4cb7-feb4-20cd69282312",
        "colab": {
          "base_uri": "https://localhost:8080/",
          "height": 68
        }
      },
      "source": [
        "data = pd.read_csv('Heart.csv')\n",
        "data.columns"
      ],
      "execution_count": 5,
      "outputs": [
        {
          "output_type": "execute_result",
          "data": {
            "text/plain": [
              "Index(['Unnamed: 0', 'Age', 'Sex', 'ChestPain', 'RestBP', 'Chol', 'Fbs',\n",
              "       'RestECG', 'MaxHR', 'ExAng', 'Oldpeak', 'Slope', 'Ca', 'Thal', 'AHD'],\n",
              "      dtype='object')"
            ]
          },
          "metadata": {
            "tags": []
          },
          "execution_count": 5
        }
      ]
    },
    {
      "cell_type": "code",
      "metadata": {
        "id": "RIqrLls6EStd",
        "colab_type": "code",
        "outputId": "1a14aad7-4df7-44e1-b717-38c19a81f145",
        "colab": {
          "base_uri": "https://localhost:8080/",
          "height": 204
        }
      },
      "source": [
        "data.drop('Unnamed: 0', axis = 1, inplace = True)\n",
        "data.head()"
      ],
      "execution_count": 6,
      "outputs": [
        {
          "output_type": "execute_result",
          "data": {
            "text/html": [
              "<div>\n",
              "<style scoped>\n",
              "    .dataframe tbody tr th:only-of-type {\n",
              "        vertical-align: middle;\n",
              "    }\n",
              "\n",
              "    .dataframe tbody tr th {\n",
              "        vertical-align: top;\n",
              "    }\n",
              "\n",
              "    .dataframe thead th {\n",
              "        text-align: right;\n",
              "    }\n",
              "</style>\n",
              "<table border=\"1\" class=\"dataframe\">\n",
              "  <thead>\n",
              "    <tr style=\"text-align: right;\">\n",
              "      <th></th>\n",
              "      <th>Age</th>\n",
              "      <th>Sex</th>\n",
              "      <th>ChestPain</th>\n",
              "      <th>RestBP</th>\n",
              "      <th>Chol</th>\n",
              "      <th>Fbs</th>\n",
              "      <th>RestECG</th>\n",
              "      <th>MaxHR</th>\n",
              "      <th>ExAng</th>\n",
              "      <th>Oldpeak</th>\n",
              "      <th>Slope</th>\n",
              "      <th>Ca</th>\n",
              "      <th>Thal</th>\n",
              "      <th>AHD</th>\n",
              "    </tr>\n",
              "  </thead>\n",
              "  <tbody>\n",
              "    <tr>\n",
              "      <th>0</th>\n",
              "      <td>63</td>\n",
              "      <td>1</td>\n",
              "      <td>typical</td>\n",
              "      <td>145</td>\n",
              "      <td>233</td>\n",
              "      <td>1</td>\n",
              "      <td>2</td>\n",
              "      <td>150</td>\n",
              "      <td>0</td>\n",
              "      <td>2.3</td>\n",
              "      <td>3</td>\n",
              "      <td>0.0</td>\n",
              "      <td>fixed</td>\n",
              "      <td>No</td>\n",
              "    </tr>\n",
              "    <tr>\n",
              "      <th>1</th>\n",
              "      <td>67</td>\n",
              "      <td>1</td>\n",
              "      <td>asymptomatic</td>\n",
              "      <td>160</td>\n",
              "      <td>286</td>\n",
              "      <td>0</td>\n",
              "      <td>2</td>\n",
              "      <td>108</td>\n",
              "      <td>1</td>\n",
              "      <td>1.5</td>\n",
              "      <td>2</td>\n",
              "      <td>3.0</td>\n",
              "      <td>normal</td>\n",
              "      <td>Yes</td>\n",
              "    </tr>\n",
              "    <tr>\n",
              "      <th>2</th>\n",
              "      <td>67</td>\n",
              "      <td>1</td>\n",
              "      <td>asymptomatic</td>\n",
              "      <td>120</td>\n",
              "      <td>229</td>\n",
              "      <td>0</td>\n",
              "      <td>2</td>\n",
              "      <td>129</td>\n",
              "      <td>1</td>\n",
              "      <td>2.6</td>\n",
              "      <td>2</td>\n",
              "      <td>2.0</td>\n",
              "      <td>reversable</td>\n",
              "      <td>Yes</td>\n",
              "    </tr>\n",
              "    <tr>\n",
              "      <th>3</th>\n",
              "      <td>37</td>\n",
              "      <td>1</td>\n",
              "      <td>nonanginal</td>\n",
              "      <td>130</td>\n",
              "      <td>250</td>\n",
              "      <td>0</td>\n",
              "      <td>0</td>\n",
              "      <td>187</td>\n",
              "      <td>0</td>\n",
              "      <td>3.5</td>\n",
              "      <td>3</td>\n",
              "      <td>0.0</td>\n",
              "      <td>normal</td>\n",
              "      <td>No</td>\n",
              "    </tr>\n",
              "    <tr>\n",
              "      <th>4</th>\n",
              "      <td>41</td>\n",
              "      <td>0</td>\n",
              "      <td>nontypical</td>\n",
              "      <td>130</td>\n",
              "      <td>204</td>\n",
              "      <td>0</td>\n",
              "      <td>2</td>\n",
              "      <td>172</td>\n",
              "      <td>0</td>\n",
              "      <td>1.4</td>\n",
              "      <td>1</td>\n",
              "      <td>0.0</td>\n",
              "      <td>normal</td>\n",
              "      <td>No</td>\n",
              "    </tr>\n",
              "  </tbody>\n",
              "</table>\n",
              "</div>"
            ],
            "text/plain": [
              "   Age  Sex     ChestPain  RestBP  Chol  ...  Oldpeak  Slope   Ca        Thal  AHD\n",
              "0   63    1       typical     145   233  ...      2.3      3  0.0       fixed   No\n",
              "1   67    1  asymptomatic     160   286  ...      1.5      2  3.0      normal  Yes\n",
              "2   67    1  asymptomatic     120   229  ...      2.6      2  2.0  reversable  Yes\n",
              "3   37    1    nonanginal     130   250  ...      3.5      3  0.0      normal   No\n",
              "4   41    0    nontypical     130   204  ...      1.4      1  0.0      normal   No\n",
              "\n",
              "[5 rows x 14 columns]"
            ]
          },
          "metadata": {
            "tags": []
          },
          "execution_count": 6
        }
      ]
    },
    {
      "cell_type": "code",
      "metadata": {
        "id": "lOXHPmSoD4V_",
        "colab_type": "code",
        "outputId": "3821cb7b-0f25-4d5d-85a5-eaeeb4c5feda",
        "colab": {
          "base_uri": "https://localhost:8080/",
          "height": 34
        }
      },
      "source": [
        "print(\"Dataset has {} samples and {} attributes\".format(*data.shape))"
      ],
      "execution_count": 7,
      "outputs": [
        {
          "output_type": "stream",
          "text": [
            "Dataset has 303 samples and 14 attributes\n"
          ],
          "name": "stdout"
        }
      ]
    },
    {
      "cell_type": "markdown",
      "metadata": {
        "id": "-EeGw2dsMcZm",
        "colab_type": "text"
      },
      "source": [
        "We have 13 feature columns and target variable 'AHD'\n",
        "\n",
        "    Sex, ChestPain, Fbs, RestECG, ExAng, Slope, Ca Thal are Categorical Features\n",
        "\n",
        "    Age, RestBP, Chol, MaxHR and Oldpeak are continuous variables."
      ]
    },
    {
      "cell_type": "markdown",
      "metadata": {
        "id": "V7Y1k-kPOGcE",
        "colab_type": "text"
      },
      "source": [
        "This dataset is the same which is available on UCI Heart disease dataset for cleveland.\n",
        "\n",
        "Description of attributes:\n",
        "\n",
        "sex: sex (1 = male; 0 = female)\n",
        "\n",
        "Ca = number of major vessels (0-3) colored by flourosopy\n",
        "\n",
        "Restbps: resting blood pressure (in mm Hg on admission to the\n",
        "hospital)\n",
        "\n",
        "\n",
        "Chol: serum cholestoral in mg/dl\n",
        "\n",
        "\n",
        "Fbs: (fasting blood sugar > 120 mg/dl) (1 = true; 0 = false)\n",
        "\n",
        "\n",
        "Restecg: resting electrocardiographic results\n",
        "\n",
        "    Value 0: normal\n",
        "\n",
        "    Value 1: having ST-T wave abnormality (T wave inversions and/or ST\n",
        "    elevation or depression of > 0.05 mV)\n",
        "\n",
        "    Value 2: showing probable or definite left ventricular hypertrophy\n",
        "    by Estes' criteria\n",
        "\n",
        "\n",
        "Thal: 3 = normal; 6 = fixed defect; 7 = reversable defect. \n",
        "      The heart status as retrieved from Thallium test, (normal, fixed defect, reversible defect) (discrete)\n",
        "\n",
        "\n",
        "Exang: exercise induced angina (1 = yes; 0 = no)\n",
        "\n",
        "\n",
        "Oldpeak = ST depression induced by exercise relative to rest\n",
        "\n",
        "\n",
        "Slope: the slope of the peak exercise ST segment\n",
        "\n",
        "    Value 1: upsloping\n",
        "\n",
        "    Value 2: flat\n",
        "\n",
        "    Value 3: downsloping\n",
        "\n",
        "\n",
        "MaxHR = maxium heart rate\n",
        "\n",
        "\n",
        "AHD: Atherosclerotic Heart Disease\n"
      ]
    },
    {
      "cell_type": "markdown",
      "metadata": {
        "id": "wPl5OLVANfyb",
        "colab_type": "text"
      },
      "source": [
        "## Exploratory Data Analysis (EDA)"
      ]
    },
    {
      "cell_type": "code",
      "metadata": {
        "id": "kMuXr2mGq_Df",
        "colab_type": "code",
        "outputId": "19fce80d-319f-4bda-92e5-230c1c167055",
        "colab": {
          "base_uri": "https://localhost:8080/",
          "height": 272
        }
      },
      "source": [
        "data.dtypes"
      ],
      "execution_count": 8,
      "outputs": [
        {
          "output_type": "execute_result",
          "data": {
            "text/plain": [
              "Age            int64\n",
              "Sex            int64\n",
              "ChestPain     object\n",
              "RestBP         int64\n",
              "Chol           int64\n",
              "Fbs            int64\n",
              "RestECG        int64\n",
              "MaxHR          int64\n",
              "ExAng          int64\n",
              "Oldpeak      float64\n",
              "Slope          int64\n",
              "Ca           float64\n",
              "Thal          object\n",
              "AHD           object\n",
              "dtype: object"
            ]
          },
          "metadata": {
            "tags": []
          },
          "execution_count": 8
        }
      ]
    },
    {
      "cell_type": "code",
      "metadata": {
        "id": "_c_MMUIXWERP",
        "colab_type": "code",
        "outputId": "61fcb3bd-f125-4cc0-c51c-f1c2368eecd0",
        "colab": {
          "base_uri": "https://localhost:8080/",
          "height": 297
        }
      },
      "source": [
        "data.describe()"
      ],
      "execution_count": 9,
      "outputs": [
        {
          "output_type": "execute_result",
          "data": {
            "text/html": [
              "<div>\n",
              "<style scoped>\n",
              "    .dataframe tbody tr th:only-of-type {\n",
              "        vertical-align: middle;\n",
              "    }\n",
              "\n",
              "    .dataframe tbody tr th {\n",
              "        vertical-align: top;\n",
              "    }\n",
              "\n",
              "    .dataframe thead th {\n",
              "        text-align: right;\n",
              "    }\n",
              "</style>\n",
              "<table border=\"1\" class=\"dataframe\">\n",
              "  <thead>\n",
              "    <tr style=\"text-align: right;\">\n",
              "      <th></th>\n",
              "      <th>Age</th>\n",
              "      <th>Sex</th>\n",
              "      <th>RestBP</th>\n",
              "      <th>Chol</th>\n",
              "      <th>Fbs</th>\n",
              "      <th>RestECG</th>\n",
              "      <th>MaxHR</th>\n",
              "      <th>ExAng</th>\n",
              "      <th>Oldpeak</th>\n",
              "      <th>Slope</th>\n",
              "      <th>Ca</th>\n",
              "    </tr>\n",
              "  </thead>\n",
              "  <tbody>\n",
              "    <tr>\n",
              "      <th>count</th>\n",
              "      <td>303.000000</td>\n",
              "      <td>303.000000</td>\n",
              "      <td>303.000000</td>\n",
              "      <td>303.000000</td>\n",
              "      <td>303.000000</td>\n",
              "      <td>303.000000</td>\n",
              "      <td>303.000000</td>\n",
              "      <td>303.000000</td>\n",
              "      <td>303.000000</td>\n",
              "      <td>303.000000</td>\n",
              "      <td>299.000000</td>\n",
              "    </tr>\n",
              "    <tr>\n",
              "      <th>mean</th>\n",
              "      <td>54.438944</td>\n",
              "      <td>0.679868</td>\n",
              "      <td>131.689769</td>\n",
              "      <td>246.693069</td>\n",
              "      <td>0.148515</td>\n",
              "      <td>0.990099</td>\n",
              "      <td>149.607261</td>\n",
              "      <td>0.326733</td>\n",
              "      <td>1.039604</td>\n",
              "      <td>1.600660</td>\n",
              "      <td>0.672241</td>\n",
              "    </tr>\n",
              "    <tr>\n",
              "      <th>std</th>\n",
              "      <td>9.038662</td>\n",
              "      <td>0.467299</td>\n",
              "      <td>17.599748</td>\n",
              "      <td>51.776918</td>\n",
              "      <td>0.356198</td>\n",
              "      <td>0.994971</td>\n",
              "      <td>22.875003</td>\n",
              "      <td>0.469794</td>\n",
              "      <td>1.161075</td>\n",
              "      <td>0.616226</td>\n",
              "      <td>0.937438</td>\n",
              "    </tr>\n",
              "    <tr>\n",
              "      <th>min</th>\n",
              "      <td>29.000000</td>\n",
              "      <td>0.000000</td>\n",
              "      <td>94.000000</td>\n",
              "      <td>126.000000</td>\n",
              "      <td>0.000000</td>\n",
              "      <td>0.000000</td>\n",
              "      <td>71.000000</td>\n",
              "      <td>0.000000</td>\n",
              "      <td>0.000000</td>\n",
              "      <td>1.000000</td>\n",
              "      <td>0.000000</td>\n",
              "    </tr>\n",
              "    <tr>\n",
              "      <th>25%</th>\n",
              "      <td>48.000000</td>\n",
              "      <td>0.000000</td>\n",
              "      <td>120.000000</td>\n",
              "      <td>211.000000</td>\n",
              "      <td>0.000000</td>\n",
              "      <td>0.000000</td>\n",
              "      <td>133.500000</td>\n",
              "      <td>0.000000</td>\n",
              "      <td>0.000000</td>\n",
              "      <td>1.000000</td>\n",
              "      <td>0.000000</td>\n",
              "    </tr>\n",
              "    <tr>\n",
              "      <th>50%</th>\n",
              "      <td>56.000000</td>\n",
              "      <td>1.000000</td>\n",
              "      <td>130.000000</td>\n",
              "      <td>241.000000</td>\n",
              "      <td>0.000000</td>\n",
              "      <td>1.000000</td>\n",
              "      <td>153.000000</td>\n",
              "      <td>0.000000</td>\n",
              "      <td>0.800000</td>\n",
              "      <td>2.000000</td>\n",
              "      <td>0.000000</td>\n",
              "    </tr>\n",
              "    <tr>\n",
              "      <th>75%</th>\n",
              "      <td>61.000000</td>\n",
              "      <td>1.000000</td>\n",
              "      <td>140.000000</td>\n",
              "      <td>275.000000</td>\n",
              "      <td>0.000000</td>\n",
              "      <td>2.000000</td>\n",
              "      <td>166.000000</td>\n",
              "      <td>1.000000</td>\n",
              "      <td>1.600000</td>\n",
              "      <td>2.000000</td>\n",
              "      <td>1.000000</td>\n",
              "    </tr>\n",
              "    <tr>\n",
              "      <th>max</th>\n",
              "      <td>77.000000</td>\n",
              "      <td>1.000000</td>\n",
              "      <td>200.000000</td>\n",
              "      <td>564.000000</td>\n",
              "      <td>1.000000</td>\n",
              "      <td>2.000000</td>\n",
              "      <td>202.000000</td>\n",
              "      <td>1.000000</td>\n",
              "      <td>6.200000</td>\n",
              "      <td>3.000000</td>\n",
              "      <td>3.000000</td>\n",
              "    </tr>\n",
              "  </tbody>\n",
              "</table>\n",
              "</div>"
            ],
            "text/plain": [
              "              Age         Sex      RestBP  ...     Oldpeak       Slope          Ca\n",
              "count  303.000000  303.000000  303.000000  ...  303.000000  303.000000  299.000000\n",
              "mean    54.438944    0.679868  131.689769  ...    1.039604    1.600660    0.672241\n",
              "std      9.038662    0.467299   17.599748  ...    1.161075    0.616226    0.937438\n",
              "min     29.000000    0.000000   94.000000  ...    0.000000    1.000000    0.000000\n",
              "25%     48.000000    0.000000  120.000000  ...    0.000000    1.000000    0.000000\n",
              "50%     56.000000    1.000000  130.000000  ...    0.800000    2.000000    0.000000\n",
              "75%     61.000000    1.000000  140.000000  ...    1.600000    2.000000    1.000000\n",
              "max     77.000000    1.000000  200.000000  ...    6.200000    3.000000    3.000000\n",
              "\n",
              "[8 rows x 11 columns]"
            ]
          },
          "metadata": {
            "tags": []
          },
          "execution_count": 9
        }
      ]
    },
    {
      "cell_type": "code",
      "metadata": {
        "id": "miGUr3eBWQ5W",
        "colab_type": "code",
        "outputId": "9c82e8c8-78b0-4ccf-be0c-40a16b56f862",
        "colab": {
          "base_uri": "https://localhost:8080/",
          "height": 410
        }
      },
      "source": [
        "data.describe(include= 'all')"
      ],
      "execution_count": 10,
      "outputs": [
        {
          "output_type": "execute_result",
          "data": {
            "text/html": [
              "<div>\n",
              "<style scoped>\n",
              "    .dataframe tbody tr th:only-of-type {\n",
              "        vertical-align: middle;\n",
              "    }\n",
              "\n",
              "    .dataframe tbody tr th {\n",
              "        vertical-align: top;\n",
              "    }\n",
              "\n",
              "    .dataframe thead th {\n",
              "        text-align: right;\n",
              "    }\n",
              "</style>\n",
              "<table border=\"1\" class=\"dataframe\">\n",
              "  <thead>\n",
              "    <tr style=\"text-align: right;\">\n",
              "      <th></th>\n",
              "      <th>Age</th>\n",
              "      <th>Sex</th>\n",
              "      <th>ChestPain</th>\n",
              "      <th>RestBP</th>\n",
              "      <th>Chol</th>\n",
              "      <th>Fbs</th>\n",
              "      <th>RestECG</th>\n",
              "      <th>MaxHR</th>\n",
              "      <th>ExAng</th>\n",
              "      <th>Oldpeak</th>\n",
              "      <th>Slope</th>\n",
              "      <th>Ca</th>\n",
              "      <th>Thal</th>\n",
              "      <th>AHD</th>\n",
              "    </tr>\n",
              "  </thead>\n",
              "  <tbody>\n",
              "    <tr>\n",
              "      <th>count</th>\n",
              "      <td>303.000000</td>\n",
              "      <td>303.000000</td>\n",
              "      <td>303</td>\n",
              "      <td>303.000000</td>\n",
              "      <td>303.000000</td>\n",
              "      <td>303.000000</td>\n",
              "      <td>303.000000</td>\n",
              "      <td>303.000000</td>\n",
              "      <td>303.000000</td>\n",
              "      <td>303.000000</td>\n",
              "      <td>303.000000</td>\n",
              "      <td>299.000000</td>\n",
              "      <td>301</td>\n",
              "      <td>303</td>\n",
              "    </tr>\n",
              "    <tr>\n",
              "      <th>unique</th>\n",
              "      <td>NaN</td>\n",
              "      <td>NaN</td>\n",
              "      <td>4</td>\n",
              "      <td>NaN</td>\n",
              "      <td>NaN</td>\n",
              "      <td>NaN</td>\n",
              "      <td>NaN</td>\n",
              "      <td>NaN</td>\n",
              "      <td>NaN</td>\n",
              "      <td>NaN</td>\n",
              "      <td>NaN</td>\n",
              "      <td>NaN</td>\n",
              "      <td>3</td>\n",
              "      <td>2</td>\n",
              "    </tr>\n",
              "    <tr>\n",
              "      <th>top</th>\n",
              "      <td>NaN</td>\n",
              "      <td>NaN</td>\n",
              "      <td>asymptomatic</td>\n",
              "      <td>NaN</td>\n",
              "      <td>NaN</td>\n",
              "      <td>NaN</td>\n",
              "      <td>NaN</td>\n",
              "      <td>NaN</td>\n",
              "      <td>NaN</td>\n",
              "      <td>NaN</td>\n",
              "      <td>NaN</td>\n",
              "      <td>NaN</td>\n",
              "      <td>normal</td>\n",
              "      <td>No</td>\n",
              "    </tr>\n",
              "    <tr>\n",
              "      <th>freq</th>\n",
              "      <td>NaN</td>\n",
              "      <td>NaN</td>\n",
              "      <td>144</td>\n",
              "      <td>NaN</td>\n",
              "      <td>NaN</td>\n",
              "      <td>NaN</td>\n",
              "      <td>NaN</td>\n",
              "      <td>NaN</td>\n",
              "      <td>NaN</td>\n",
              "      <td>NaN</td>\n",
              "      <td>NaN</td>\n",
              "      <td>NaN</td>\n",
              "      <td>166</td>\n",
              "      <td>164</td>\n",
              "    </tr>\n",
              "    <tr>\n",
              "      <th>mean</th>\n",
              "      <td>54.438944</td>\n",
              "      <td>0.679868</td>\n",
              "      <td>NaN</td>\n",
              "      <td>131.689769</td>\n",
              "      <td>246.693069</td>\n",
              "      <td>0.148515</td>\n",
              "      <td>0.990099</td>\n",
              "      <td>149.607261</td>\n",
              "      <td>0.326733</td>\n",
              "      <td>1.039604</td>\n",
              "      <td>1.600660</td>\n",
              "      <td>0.672241</td>\n",
              "      <td>NaN</td>\n",
              "      <td>NaN</td>\n",
              "    </tr>\n",
              "    <tr>\n",
              "      <th>std</th>\n",
              "      <td>9.038662</td>\n",
              "      <td>0.467299</td>\n",
              "      <td>NaN</td>\n",
              "      <td>17.599748</td>\n",
              "      <td>51.776918</td>\n",
              "      <td>0.356198</td>\n",
              "      <td>0.994971</td>\n",
              "      <td>22.875003</td>\n",
              "      <td>0.469794</td>\n",
              "      <td>1.161075</td>\n",
              "      <td>0.616226</td>\n",
              "      <td>0.937438</td>\n",
              "      <td>NaN</td>\n",
              "      <td>NaN</td>\n",
              "    </tr>\n",
              "    <tr>\n",
              "      <th>min</th>\n",
              "      <td>29.000000</td>\n",
              "      <td>0.000000</td>\n",
              "      <td>NaN</td>\n",
              "      <td>94.000000</td>\n",
              "      <td>126.000000</td>\n",
              "      <td>0.000000</td>\n",
              "      <td>0.000000</td>\n",
              "      <td>71.000000</td>\n",
              "      <td>0.000000</td>\n",
              "      <td>0.000000</td>\n",
              "      <td>1.000000</td>\n",
              "      <td>0.000000</td>\n",
              "      <td>NaN</td>\n",
              "      <td>NaN</td>\n",
              "    </tr>\n",
              "    <tr>\n",
              "      <th>25%</th>\n",
              "      <td>48.000000</td>\n",
              "      <td>0.000000</td>\n",
              "      <td>NaN</td>\n",
              "      <td>120.000000</td>\n",
              "      <td>211.000000</td>\n",
              "      <td>0.000000</td>\n",
              "      <td>0.000000</td>\n",
              "      <td>133.500000</td>\n",
              "      <td>0.000000</td>\n",
              "      <td>0.000000</td>\n",
              "      <td>1.000000</td>\n",
              "      <td>0.000000</td>\n",
              "      <td>NaN</td>\n",
              "      <td>NaN</td>\n",
              "    </tr>\n",
              "    <tr>\n",
              "      <th>50%</th>\n",
              "      <td>56.000000</td>\n",
              "      <td>1.000000</td>\n",
              "      <td>NaN</td>\n",
              "      <td>130.000000</td>\n",
              "      <td>241.000000</td>\n",
              "      <td>0.000000</td>\n",
              "      <td>1.000000</td>\n",
              "      <td>153.000000</td>\n",
              "      <td>0.000000</td>\n",
              "      <td>0.800000</td>\n",
              "      <td>2.000000</td>\n",
              "      <td>0.000000</td>\n",
              "      <td>NaN</td>\n",
              "      <td>NaN</td>\n",
              "    </tr>\n",
              "    <tr>\n",
              "      <th>75%</th>\n",
              "      <td>61.000000</td>\n",
              "      <td>1.000000</td>\n",
              "      <td>NaN</td>\n",
              "      <td>140.000000</td>\n",
              "      <td>275.000000</td>\n",
              "      <td>0.000000</td>\n",
              "      <td>2.000000</td>\n",
              "      <td>166.000000</td>\n",
              "      <td>1.000000</td>\n",
              "      <td>1.600000</td>\n",
              "      <td>2.000000</td>\n",
              "      <td>1.000000</td>\n",
              "      <td>NaN</td>\n",
              "      <td>NaN</td>\n",
              "    </tr>\n",
              "    <tr>\n",
              "      <th>max</th>\n",
              "      <td>77.000000</td>\n",
              "      <td>1.000000</td>\n",
              "      <td>NaN</td>\n",
              "      <td>200.000000</td>\n",
              "      <td>564.000000</td>\n",
              "      <td>1.000000</td>\n",
              "      <td>2.000000</td>\n",
              "      <td>202.000000</td>\n",
              "      <td>1.000000</td>\n",
              "      <td>6.200000</td>\n",
              "      <td>3.000000</td>\n",
              "      <td>3.000000</td>\n",
              "      <td>NaN</td>\n",
              "      <td>NaN</td>\n",
              "    </tr>\n",
              "  </tbody>\n",
              "</table>\n",
              "</div>"
            ],
            "text/plain": [
              "               Age         Sex     ChestPain  ...          Ca    Thal  AHD\n",
              "count   303.000000  303.000000           303  ...  299.000000     301  303\n",
              "unique         NaN         NaN             4  ...         NaN       3    2\n",
              "top            NaN         NaN  asymptomatic  ...         NaN  normal   No\n",
              "freq           NaN         NaN           144  ...         NaN     166  164\n",
              "mean     54.438944    0.679868           NaN  ...    0.672241     NaN  NaN\n",
              "std       9.038662    0.467299           NaN  ...    0.937438     NaN  NaN\n",
              "min      29.000000    0.000000           NaN  ...    0.000000     NaN  NaN\n",
              "25%      48.000000    0.000000           NaN  ...    0.000000     NaN  NaN\n",
              "50%      56.000000    1.000000           NaN  ...    0.000000     NaN  NaN\n",
              "75%      61.000000    1.000000           NaN  ...    1.000000     NaN  NaN\n",
              "max      77.000000    1.000000           NaN  ...    3.000000     NaN  NaN\n",
              "\n",
              "[11 rows x 14 columns]"
            ]
          },
          "metadata": {
            "tags": []
          },
          "execution_count": 10
        }
      ]
    },
    {
      "cell_type": "code",
      "metadata": {
        "id": "62XdMcySNe9I",
        "colab_type": "code",
        "outputId": "9e9c7b18-06f3-4016-b616-4c9b351f42ac",
        "colab": {
          "base_uri": "https://localhost:8080/",
          "height": 272
        }
      },
      "source": [
        "# Check if the dataset has missing values\n",
        "data.isnull().sum()"
      ],
      "execution_count": 11,
      "outputs": [
        {
          "output_type": "execute_result",
          "data": {
            "text/plain": [
              "Age          0\n",
              "Sex          0\n",
              "ChestPain    0\n",
              "RestBP       0\n",
              "Chol         0\n",
              "Fbs          0\n",
              "RestECG      0\n",
              "MaxHR        0\n",
              "ExAng        0\n",
              "Oldpeak      0\n",
              "Slope        0\n",
              "Ca           4\n",
              "Thal         2\n",
              "AHD          0\n",
              "dtype: int64"
            ]
          },
          "metadata": {
            "tags": []
          },
          "execution_count": 11
        }
      ]
    },
    {
      "cell_type": "code",
      "metadata": {
        "id": "GO--W7DDPe88",
        "colab_type": "code",
        "outputId": "a3c87f81-7de4-4b24-d9b1-b4cfb5586601",
        "colab": {
          "base_uri": "https://localhost:8080/",
          "height": 326
        }
      },
      "source": [
        "# Check for missing values using heatmap\n",
        "sns.heatmap(data.isnull(), yticklabels= False)"
      ],
      "execution_count": 12,
      "outputs": [
        {
          "output_type": "execute_result",
          "data": {
            "text/plain": [
              "<matplotlib.axes._subplots.AxesSubplot at 0x7f51613b2e10>"
            ]
          },
          "metadata": {
            "tags": []
          },
          "execution_count": 12
        },
        {
          "output_type": "display_data",
          "data": {
            "image/png": "[encoded data removed]",
            "text/plain": [
              "<Figure size 432x288 with 2 Axes>"
            ]
          },
          "metadata": {
            "tags": []
          }
        }
      ]
    },
    {
      "cell_type": "markdown",
      "metadata": {
        "id": "hODr4ebxVFux",
        "colab_type": "text"
      },
      "source": [
        "### Data Cleaning --> for features 'Ca' and 'Thal'"
      ]
    },
    {
      "cell_type": "code",
      "metadata": {
        "id": "UOCN7VqNQjCI",
        "colab_type": "code",
        "colab": {
          "base_uri": "https://localhost:8080/",
          "height": 142
        },
        "outputId": "bf284926-098c-4ff2-fe76-972bf436c87f"
      },
      "source": [
        "# Analyse 'Ca' data\n",
        "pd.crosstab(index= data['AHD'], columns= data['Ca'])"
      ],
      "execution_count": 17,
      "outputs": [
        {
          "output_type": "execute_result",
          "data": {
            "text/html": [
              "<div>\n",
              "<style scoped>\n",
              "    .dataframe tbody tr th:only-of-type {\n",
              "        vertical-align: middle;\n",
              "    }\n",
              "\n",
              "    .dataframe tbody tr th {\n",
              "        vertical-align: top;\n",
              "    }\n",
              "\n",
              "    .dataframe thead th {\n",
              "        text-align: right;\n",
              "    }\n",
              "</style>\n",
              "<table border=\"1\" class=\"dataframe\">\n",
              "  <thead>\n",
              "    <tr style=\"text-align: right;\">\n",
              "      <th>Ca</th>\n",
              "      <th>0.0</th>\n",
              "      <th>1.0</th>\n",
              "      <th>2.0</th>\n",
              "      <th>3.0</th>\n",
              "    </tr>\n",
              "    <tr>\n",
              "      <th>AHD</th>\n",
              "      <th></th>\n",
              "      <th></th>\n",
              "      <th></th>\n",
              "      <th></th>\n",
              "    </tr>\n",
              "  </thead>\n",
              "  <tbody>\n",
              "    <tr>\n",
              "      <th>No</th>\n",
              "      <td>130</td>\n",
              "      <td>21</td>\n",
              "      <td>7</td>\n",
              "      <td>3</td>\n",
              "    </tr>\n",
              "    <tr>\n",
              "      <th>Yes</th>\n",
              "      <td>46</td>\n",
              "      <td>44</td>\n",
              "      <td>31</td>\n",
              "      <td>17</td>\n",
              "    </tr>\n",
              "  </tbody>\n",
              "</table>\n",
              "</div>"
            ],
            "text/plain": [
              "Ca   0.0  1.0  2.0  3.0\n",
              "AHD                    \n",
              "No   130   21    7    3\n",
              "Yes   46   44   31   17"
            ]
          },
          "metadata": {
            "tags": []
          },
          "execution_count": 17
        }
      ]
    },
    {
      "cell_type": "markdown",
      "metadata": {
        "id": "512ZSqF2eBG5",
        "colab_type": "text"
      },
      "source": [
        "From the table above, most of the outcomes corresponds to Ca = 0.0.\n",
        "\n",
        "Let's fill missing values from 'Ca' with 0.0"
      ]
    },
    {
      "cell_type": "code",
      "metadata": {
        "id": "AqZgG82rd6Dt",
        "colab_type": "code",
        "colab": {}
      },
      "source": [
        "data['Ca'].fillna(0.0, inplace = True)"
      ],
      "execution_count": 0,
      "outputs": []
    },
    {
      "cell_type": "code",
      "metadata": {
        "id": "gpmHW5VWU2o4",
        "colab_type": "code",
        "outputId": "b807030c-d016-4b27-9341-916ec163128a",
        "colab": {
          "base_uri": "https://localhost:8080/",
          "height": 102
        }
      },
      "source": [
        "# Analyse 'Thal' data\n",
        "data['Thal'].describe(include= 'all')"
      ],
      "execution_count": 19,
      "outputs": [
        {
          "output_type": "execute_result",
          "data": {
            "text/plain": [
              "count        301\n",
              "unique         3\n",
              "top       normal\n",
              "freq         166\n",
              "Name: Thal, dtype: object"
            ]
          },
          "metadata": {
            "tags": []
          },
          "execution_count": 19
        }
      ]
    },
    {
      "cell_type": "markdown",
      "metadata": {
        "id": "bGCvyQfdegED",
        "colab_type": "text"
      },
      "source": [
        "From the table above, the top value for feature 'Thal' is 'normal'.\n",
        "\n",
        "Let's fill missing values from 'Thal' with 'normal'"
      ]
    },
    {
      "cell_type": "code",
      "metadata": {
        "id": "uJ04zo5hXXxw",
        "colab_type": "code",
        "colab": {}
      },
      "source": [
        "data['Thal'].fillna('normal', inplace = True)"
      ],
      "execution_count": 0,
      "outputs": []
    },
    {
      "cell_type": "code",
      "metadata": {
        "id": "Y6Lgj5sGsVti",
        "colab_type": "code",
        "outputId": "14a3561c-cd6c-40a3-9d5a-edd9eaca161b",
        "colab": {
          "base_uri": "https://localhost:8080/",
          "height": 272
        }
      },
      "source": [
        "data.isnull().sum()"
      ],
      "execution_count": 21,
      "outputs": [
        {
          "output_type": "execute_result",
          "data": {
            "text/plain": [
              "Age          0\n",
              "Sex          0\n",
              "ChestPain    0\n",
              "RestBP       0\n",
              "Chol         0\n",
              "Fbs          0\n",
              "RestECG      0\n",
              "MaxHR        0\n",
              "ExAng        0\n",
              "Oldpeak      0\n",
              "Slope        0\n",
              "Ca           0\n",
              "Thal         0\n",
              "AHD          0\n",
              "dtype: int64"
            ]
          },
          "metadata": {
            "tags": []
          },
          "execution_count": 21
        }
      ]
    },
    {
      "cell_type": "code",
      "metadata": {
        "id": "ZiVhaeMyP5EL",
        "colab_type": "code",
        "outputId": "e8d53052-aa3f-4168-bad8-dc129ab11dcb",
        "colab": {
          "base_uri": "https://localhost:8080/",
          "height": 68
        }
      },
      "source": [
        "# Check if the data is balanced\n",
        "AHD_counts = data['AHD'].value_counts()\n",
        "AHD_counts"
      ],
      "execution_count": 22,
      "outputs": [
        {
          "output_type": "execute_result",
          "data": {
            "text/plain": [
              "No     164\n",
              "Yes    139\n",
              "Name: AHD, dtype: int64"
            ]
          },
          "metadata": {
            "tags": []
          },
          "execution_count": 22
        }
      ]
    },
    {
      "cell_type": "code",
      "metadata": {
        "id": "QkwXuu2IQgN8",
        "colab_type": "code",
        "outputId": "856dc7fb-a67a-4a2a-b930-1064121e33fb",
        "colab": {
          "base_uri": "https://localhost:8080/",
          "height": 300
        }
      },
      "source": [
        "sns.set_style('whitegrid')\n",
        "sns.countplot(x= 'AHD', data= data)"
      ],
      "execution_count": 23,
      "outputs": [
        {
          "output_type": "execute_result",
          "data": {
            "text/plain": [
              "<matplotlib.axes._subplots.AxesSubplot at 0x7f515b944a20>"
            ]
          },
          "metadata": {
            "tags": []
          },
          "execution_count": 23
        },
        {
          "output_type": "display_data",
          "data": {
            "image/png": "[encoded data removed]",
            "text/plain": [
              "<Figure size 432x288 with 1 Axes>"
            ]
          },
          "metadata": {
            "tags": []
          }
        }
      ]
    },
    {
      "cell_type": "code",
      "metadata": {
        "id": "AkJq48jeTIXk",
        "colab_type": "code",
        "outputId": "56c79cbc-7cf3-4f8b-f440-c05e0b3e2dd1",
        "colab": {
          "base_uri": "https://localhost:8080/",
          "height": 51
        }
      },
      "source": [
        "print(\"% of patients diagnosed with AHD: \",round(AHD_counts['Yes']*100/len(data), 2))\n",
        "print(\"% of patients not diagnosed with AHD: \",round(AHD_counts['No']*100/len(data), 2))"
      ],
      "execution_count": 24,
      "outputs": [
        {
          "output_type": "stream",
          "text": [
            "% of patients diagnosed with AHD:  45.87\n",
            "% of patients not diagnosed with AHD:  54.13\n"
          ],
          "name": "stdout"
        }
      ]
    },
    {
      "cell_type": "code",
      "metadata": {
        "id": "DMC4xDruRsYJ",
        "colab_type": "code",
        "colab": {}
      },
      "source": [
        "# List of categorical and numerical variables\n",
        "cat_var = ['Sex', 'ChestPain', 'Fbs', 'RestECG', 'ExAng', 'Slope', 'Ca', 'Thal']\n",
        "num_var = ['Age', 'RestBP', 'Chol', 'MaxHR', 'Oldpeak']"
      ],
      "execution_count": 0,
      "outputs": []
    },
    {
      "cell_type": "code",
      "metadata": {
        "id": "PcNBdtvHRsmT",
        "colab_type": "code",
        "outputId": "f316117d-4d28-4280-fa32-a96277d61d69",
        "colab": {
          "base_uri": "https://localhost:8080/",
          "height": 119
        }
      },
      "source": [
        "# Find the correlation between Numerical Variables\n",
        "corr_df=data[num_var]  #New dataframe to calculate correlation between numerical features\n",
        "cor= corr_df.corr(method='pearson')\n",
        "print(cor)"
      ],
      "execution_count": 26,
      "outputs": [
        {
          "output_type": "stream",
          "text": [
            "              Age    RestBP      Chol     MaxHR   Oldpeak\n",
            "Age      1.000000  0.284946  0.208950 -0.393806  0.203805\n",
            "RestBP   0.284946  1.000000  0.130120 -0.045351  0.189171\n",
            "Chol     0.208950  0.130120  1.000000 -0.003432  0.046564\n",
            "MaxHR   -0.393806 -0.045351 -0.003432  1.000000 -0.343085\n",
            "Oldpeak  0.203805  0.189171  0.046564 -0.343085  1.000000\n"
          ],
          "name": "stdout"
        }
      ]
    },
    {
      "cell_type": "code",
      "metadata": {
        "id": "E5pwBWiVRs8f",
        "colab_type": "code",
        "outputId": "9e854f6d-859b-4238-de8b-cc9e8cda609b",
        "colab": {
          "base_uri": "https://localhost:8080/",
          "height": 499
        }
      },
      "source": [
        "# Visualizing the correlation\n",
        "fig, ax =plt.subplots(figsize=(10, 8))\n",
        "plt.title(\"Correlation Plot\")\n",
        "sns.heatmap(cor, mask=np.zeros_like(cor, dtype=np.bool), cmap=sns.diverging_palette(220, 10, as_cmap=True),\n",
        "            square=True, ax=ax)\n",
        "plt.show()"
      ],
      "execution_count": 27,
      "outputs": [
        {
          "output_type": "display_data",
          "data": {
            "image/png": "[encoded data removed]",
            "text/plain": [
              "<Figure size 720x576 with 2 Axes>"
            ]
          },
          "metadata": {
            "tags": []
          }
        }
      ]
    },
    {
      "cell_type": "markdown",
      "metadata": {
        "id": "hhCPHDOI8czD",
        "colab_type": "text"
      },
      "source": [
        "There is no strong correlation between any two variables"
      ]
    },
    {
      "cell_type": "markdown",
      "metadata": {
        "id": "rPlklLfD8rzA",
        "colab_type": "text"
      },
      "source": [
        "Understanding the  relationship between categorical variables and target variable using chi-square test"
      ]
    },
    {
      "cell_type": "code",
      "metadata": {
        "id": "BGcKtgrtRtOW",
        "colab_type": "code",
        "outputId": "a8c9069b-1931-4eac-8d6a-d7d9142e562f",
        "colab": {
          "base_uri": "https://localhost:8080/",
          "height": 153
        }
      },
      "source": [
        "#cat_var = ['Sex', 'ChestPain', 'Fbs', 'RestECG', 'ExAng', 'Slope', 'Ca', 'Thal']\n",
        "for cat in cat_var:\n",
        "  cst=chi2_contingency(pd.crosstab(data['AHD'], data[cat]))\n",
        "  print('P-value for ' + cat + ' : ',cst[1])"
      ],
      "execution_count": 28,
      "outputs": [
        {
          "output_type": "stream",
          "text": [
            "P-value for Sex :  2.666712348180942e-06\n",
            "P-value for ChestPain :  1.2517106007837616e-17\n",
            "P-value for Fbs :  0.7812734067063785\n",
            "P-value for RestECG :  0.006566523814217354\n",
            "P-value for ExAng :  1.413788096718085e-13\n",
            "P-value for Slope :  1.1428845467526982e-10\n",
            "P-value for Ca :  1.174259428031822e-15\n",
            "P-value for Thal :  1.1098857420294782e-18\n"
          ],
          "name": "stdout"
        }
      ]
    },
    {
      "cell_type": "markdown",
      "metadata": {
        "id": "kzyEjhMiDW1g",
        "colab_type": "text"
      },
      "source": [
        "It could be noted that P-value for Fbs is 0.7812 which is greater the 0.05 (significance level - alpha).\n",
        "\n",
        "Thus the Null Hypothesis H0 : \"There is NO relationship between 'Fbs' and 'AHD' \" ---> failed to reject\n",
        "\n",
        "This implies that there is NO relationship between 'Fbs' and 'AHD'. So 'fbs' column could be dropped."
      ]
    },
    {
      "cell_type": "code",
      "metadata": {
        "id": "ddhQOdjORtLj",
        "colab_type": "code",
        "colab": {}
      },
      "source": [
        "# Drop fbs column\n",
        "data.drop('Fbs', axis= 1, inplace= True)"
      ],
      "execution_count": 0,
      "outputs": []
    },
    {
      "cell_type": "markdown",
      "metadata": {
        "id": "OPwv2lmwGdyp",
        "colab_type": "text"
      },
      "source": [
        "Let's check how feature 'Sex' impacts the outcome 'AHD'"
      ]
    },
    {
      "cell_type": "code",
      "metadata": {
        "id": "xBvugLakQxkd",
        "colab_type": "code",
        "outputId": "0864d75b-e153-46c5-998d-a36b09548785",
        "colab": {
          "base_uri": "https://localhost:8080/",
          "height": 300
        }
      },
      "source": [
        "sns.set_style('whitegrid')\n",
        "sns.countplot(x= 'AHD', hue = 'Sex', data= data, palette= 'RdBu_r')"
      ],
      "execution_count": 30,
      "outputs": [
        {
          "output_type": "execute_result",
          "data": {
            "text/plain": [
              "<matplotlib.axes._subplots.AxesSubplot at 0x7f515b8b8eb8>"
            ]
          },
          "metadata": {
            "tags": []
          },
          "execution_count": 30
        },
        {
          "output_type": "display_data",
          "data": {
            "image/png": "[encoded data removed]",
            "text/plain": [
              "<Figure size 432x288 with 1 Axes>"
            ]
          },
          "metadata": {
            "tags": []
          }
        }
      ]
    },
    {
      "cell_type": "markdown",
      "metadata": {
        "id": "1D0FoGIvGes7",
        "colab_type": "text"
      },
      "source": [
        "It can be noted from the above plot that Male patients have higher probability of 'AHD' than Female patients"
      ]
    },
    {
      "cell_type": "markdown",
      "metadata": {
        "id": "6s6XIfy6H1Y0",
        "colab_type": "text"
      },
      "source": [
        "Let's now understand how cholestoral 'Chol' impacts 'AHD'"
      ]
    },
    {
      "cell_type": "code",
      "metadata": {
        "id": "gajDHaqyRtIx",
        "colab_type": "code",
        "outputId": "3fbe5bfa-499b-461c-c25f-709d0b5345fe",
        "colab": {
          "base_uri": "https://localhost:8080/",
          "height": 300
        }
      },
      "source": [
        "sns.set_style('whitegrid')\n",
        "sns.lineplot(x= 'AHD', y = 'Chol', data= data, palette= 'RdBu_r')"
      ],
      "execution_count": 32,
      "outputs": [
        {
          "output_type": "execute_result",
          "data": {
            "text/plain": [
              "<matplotlib.axes._subplots.AxesSubplot at 0x7f515b6f3b00>"
            ]
          },
          "metadata": {
            "tags": []
          },
          "execution_count": 32
        },
        {
          "output_type": "display_data",
          "data": {
            "image/png": "[encoded data removed]",
            "text/plain": [
              "<Figure size 432x288 with 1 Axes>"
            ]
          },
          "metadata": {
            "tags": []
          }
        }
      ]
    },
    {
      "cell_type": "markdown",
      "metadata": {
        "id": "pAkPfrYnItED",
        "colab_type": "text"
      },
      "source": [
        "It can be noted that an increased level of cholestrol 'Chol' may lead to 'AHD'"
      ]
    },
    {
      "cell_type": "code",
      "metadata": {
        "id": "Bdcpq60URtGM",
        "colab_type": "code",
        "outputId": "4f68e819-d9e0-4349-8123-1f9e9e442d1a",
        "colab": {
          "base_uri": "https://localhost:8080/",
          "height": 513
        }
      },
      "source": [
        "fig, ax=plt.subplots(1,figsize=(10,8))\n",
        "sns.boxplot(x='AHD',y='Age', data= data)\n",
        "ax.set_ylim(0,100)\n",
        "plt.title(\"AHD vs Age\")\n",
        "plt.show()"
      ],
      "execution_count": 37,
      "outputs": [
        {
          "output_type": "display_data",
          "data": {
            "image/png": "[encoded data removed]",
            "text/plain": [
              "<Figure size 720x576 with 1 Axes>"
            ]
          },
          "metadata": {
            "tags": []
          }
        }
      ]
    },
    {
      "cell_type": "markdown",
      "metadata": {
        "id": "G5LQmKoHJ2DR",
        "colab_type": "text"
      },
      "source": [
        "From the above graph,  it is evident that 'AHD' is most likely to be noticed in people aged above 50 years (25 % of people with 'AHD' are below 50 years and 75% of the people with 'AHD' are above 50years)"
      ]
    },
    {
      "cell_type": "markdown",
      "metadata": {
        "id": "5f2N4p1rMYMs",
        "colab_type": "text"
      },
      "source": [
        "### Let's now deal with the categorical variables 'ChestPain' and 'Thal' using One Hot Encoding (OHE)"
      ]
    },
    {
      "cell_type": "code",
      "metadata": {
        "id": "fDJI6ikkRtCp",
        "colab_type": "code",
        "outputId": "b04ea19f-1dd7-4ac6-b0fe-833b0989f5e6",
        "colab": {
          "base_uri": "https://localhost:8080/",
          "height": 204
        }
      },
      "source": [
        "ChestPain_dummies = pd.get_dummies(data['ChestPain'], drop_first= True) # Drop the first column as it is well represented by other columns\n",
        "ChestPain_dummies.head()"
      ],
      "execution_count": 38,
      "outputs": [
        {
          "output_type": "execute_result",
          "data": {
            "text/html": [
              "<div>\n",
              "<style scoped>\n",
              "    .dataframe tbody tr th:only-of-type {\n",
              "        vertical-align: middle;\n",
              "    }\n",
              "\n",
              "    .dataframe tbody tr th {\n",
              "        vertical-align: top;\n",
              "    }\n",
              "\n",
              "    .dataframe thead th {\n",
              "        text-align: right;\n",
              "    }\n",
              "</style>\n",
              "<table border=\"1\" class=\"dataframe\">\n",
              "  <thead>\n",
              "    <tr style=\"text-align: right;\">\n",
              "      <th></th>\n",
              "      <th>nonanginal</th>\n",
              "      <th>nontypical</th>\n",
              "      <th>typical</th>\n",
              "    </tr>\n",
              "  </thead>\n",
              "  <tbody>\n",
              "    <tr>\n",
              "      <th>0</th>\n",
              "      <td>0</td>\n",
              "      <td>0</td>\n",
              "      <td>1</td>\n",
              "    </tr>\n",
              "    <tr>\n",
              "      <th>1</th>\n",
              "      <td>0</td>\n",
              "      <td>0</td>\n",
              "      <td>0</td>\n",
              "    </tr>\n",
              "    <tr>\n",
              "      <th>2</th>\n",
              "      <td>0</td>\n",
              "      <td>0</td>\n",
              "      <td>0</td>\n",
              "    </tr>\n",
              "    <tr>\n",
              "      <th>3</th>\n",
              "      <td>1</td>\n",
              "      <td>0</td>\n",
              "      <td>0</td>\n",
              "    </tr>\n",
              "    <tr>\n",
              "      <th>4</th>\n",
              "      <td>0</td>\n",
              "      <td>1</td>\n",
              "      <td>0</td>\n",
              "    </tr>\n",
              "  </tbody>\n",
              "</table>\n",
              "</div>"
            ],
            "text/plain": [
              "   nonanginal  nontypical  typical\n",
              "0           0           0        1\n",
              "1           0           0        0\n",
              "2           0           0        0\n",
              "3           1           0        0\n",
              "4           0           1        0"
            ]
          },
          "metadata": {
            "tags": []
          },
          "execution_count": 38
        }
      ]
    },
    {
      "cell_type": "code",
      "metadata": {
        "id": "BfvP64zsNyrV",
        "colab_type": "code",
        "outputId": "0bc01e8b-00b0-45f8-e5bf-ed0a98a7c74b",
        "colab": {
          "base_uri": "https://localhost:8080/",
          "height": 204
        }
      },
      "source": [
        "Thal_dummies = pd.get_dummies(data['Thal'], drop_first= True)\n",
        "Thal_dummies.head()"
      ],
      "execution_count": 39,
      "outputs": [
        {
          "output_type": "execute_result",
          "data": {
            "text/html": [
              "<div>\n",
              "<style scoped>\n",
              "    .dataframe tbody tr th:only-of-type {\n",
              "        vertical-align: middle;\n",
              "    }\n",
              "\n",
              "    .dataframe tbody tr th {\n",
              "        vertical-align: top;\n",
              "    }\n",
              "\n",
              "    .dataframe thead th {\n",
              "        text-align: right;\n",
              "    }\n",
              "</style>\n",
              "<table border=\"1\" class=\"dataframe\">\n",
              "  <thead>\n",
              "    <tr style=\"text-align: right;\">\n",
              "      <th></th>\n",
              "      <th>normal</th>\n",
              "      <th>reversable</th>\n",
              "    </tr>\n",
              "  </thead>\n",
              "  <tbody>\n",
              "    <tr>\n",
              "      <th>0</th>\n",
              "      <td>0</td>\n",
              "      <td>0</td>\n",
              "    </tr>\n",
              "    <tr>\n",
              "      <th>1</th>\n",
              "      <td>1</td>\n",
              "      <td>0</td>\n",
              "    </tr>\n",
              "    <tr>\n",
              "      <th>2</th>\n",
              "      <td>0</td>\n",
              "      <td>1</td>\n",
              "    </tr>\n",
              "    <tr>\n",
              "      <th>3</th>\n",
              "      <td>1</td>\n",
              "      <td>0</td>\n",
              "    </tr>\n",
              "    <tr>\n",
              "      <th>4</th>\n",
              "      <td>1</td>\n",
              "      <td>0</td>\n",
              "    </tr>\n",
              "  </tbody>\n",
              "</table>\n",
              "</div>"
            ],
            "text/plain": [
              "   normal  reversable\n",
              "0       0           0\n",
              "1       1           0\n",
              "2       0           1\n",
              "3       1           0\n",
              "4       1           0"
            ]
          },
          "metadata": {
            "tags": []
          },
          "execution_count": 39
        }
      ]
    },
    {
      "cell_type": "code",
      "metadata": {
        "id": "VDgrE6MYRsjX",
        "colab_type": "code",
        "colab": {}
      },
      "source": [
        "cat_var_drop = ['ChestPain', 'Thal'] # Drop the original categorical variables 'ChestPain' and 'Thal'\n",
        "data.drop(cat_var_drop, axis= 1, inplace= True)"
      ],
      "execution_count": 0,
      "outputs": []
    },
    {
      "cell_type": "code",
      "metadata": {
        "id": "8kA8MR14RsfW",
        "colab_type": "code",
        "outputId": "671c5a28-0b4a-4b00-8c64-8685d0c6c9a4",
        "colab": {
          "base_uri": "https://localhost:8080/",
          "height": 204
        }
      },
      "source": [
        "data = pd.concat([data, ChestPain_dummies, Thal_dummies], axis = 1)\n",
        "data.head()"
      ],
      "execution_count": 41,
      "outputs": [
        {
          "output_type": "execute_result",
          "data": {
            "text/html": [
              "<div>\n",
              "<style scoped>\n",
              "    .dataframe tbody tr th:only-of-type {\n",
              "        vertical-align: middle;\n",
              "    }\n",
              "\n",
              "    .dataframe tbody tr th {\n",
              "        vertical-align: top;\n",
              "    }\n",
              "\n",
              "    .dataframe thead th {\n",
              "        text-align: right;\n",
              "    }\n",
              "</style>\n",
              "<table border=\"1\" class=\"dataframe\">\n",
              "  <thead>\n",
              "    <tr style=\"text-align: right;\">\n",
              "      <th></th>\n",
              "      <th>Age</th>\n",
              "      <th>Sex</th>\n",
              "      <th>RestBP</th>\n",
              "      <th>Chol</th>\n",
              "      <th>RestECG</th>\n",
              "      <th>MaxHR</th>\n",
              "      <th>ExAng</th>\n",
              "      <th>Oldpeak</th>\n",
              "      <th>Slope</th>\n",
              "      <th>Ca</th>\n",
              "      <th>AHD</th>\n",
              "      <th>nonanginal</th>\n",
              "      <th>nontypical</th>\n",
              "      <th>typical</th>\n",
              "      <th>normal</th>\n",
              "      <th>reversable</th>\n",
              "    </tr>\n",
              "  </thead>\n",
              "  <tbody>\n",
              "    <tr>\n",
              "      <th>0</th>\n",
              "      <td>63</td>\n",
              "      <td>1</td>\n",
              "      <td>145</td>\n",
              "      <td>233</td>\n",
              "      <td>2</td>\n",
              "      <td>150</td>\n",
              "      <td>0</td>\n",
              "      <td>2.3</td>\n",
              "      <td>3</td>\n",
              "      <td>0.0</td>\n",
              "      <td>No</td>\n",
              "      <td>0</td>\n",
              "      <td>0</td>\n",
              "      <td>1</td>\n",
              "      <td>0</td>\n",
              "      <td>0</td>\n",
              "    </tr>\n",
              "    <tr>\n",
              "      <th>1</th>\n",
              "      <td>67</td>\n",
              "      <td>1</td>\n",
              "      <td>160</td>\n",
              "      <td>286</td>\n",
              "      <td>2</td>\n",
              "      <td>108</td>\n",
              "      <td>1</td>\n",
              "      <td>1.5</td>\n",
              "      <td>2</td>\n",
              "      <td>3.0</td>\n",
              "      <td>Yes</td>\n",
              "      <td>0</td>\n",
              "      <td>0</td>\n",
              "      <td>0</td>\n",
              "      <td>1</td>\n",
              "      <td>0</td>\n",
              "    </tr>\n",
              "    <tr>\n",
              "      <th>2</th>\n",
              "      <td>67</td>\n",
              "      <td>1</td>\n",
              "      <td>120</td>\n",
              "      <td>229</td>\n",
              "      <td>2</td>\n",
              "      <td>129</td>\n",
              "      <td>1</td>\n",
              "      <td>2.6</td>\n",
              "      <td>2</td>\n",
              "      <td>2.0</td>\n",
              "      <td>Yes</td>\n",
              "      <td>0</td>\n",
              "      <td>0</td>\n",
              "      <td>0</td>\n",
              "      <td>0</td>\n",
              "      <td>1</td>\n",
              "    </tr>\n",
              "    <tr>\n",
              "      <th>3</th>\n",
              "      <td>37</td>\n",
              "      <td>1</td>\n",
              "      <td>130</td>\n",
              "      <td>250</td>\n",
              "      <td>0</td>\n",
              "      <td>187</td>\n",
              "      <td>0</td>\n",
              "      <td>3.5</td>\n",
              "      <td>3</td>\n",
              "      <td>0.0</td>\n",
              "      <td>No</td>\n",
              "      <td>1</td>\n",
              "      <td>0</td>\n",
              "      <td>0</td>\n",
              "      <td>1</td>\n",
              "      <td>0</td>\n",
              "    </tr>\n",
              "    <tr>\n",
              "      <th>4</th>\n",
              "      <td>41</td>\n",
              "      <td>0</td>\n",
              "      <td>130</td>\n",
              "      <td>204</td>\n",
              "      <td>2</td>\n",
              "      <td>172</td>\n",
              "      <td>0</td>\n",
              "      <td>1.4</td>\n",
              "      <td>1</td>\n",
              "      <td>0.0</td>\n",
              "      <td>No</td>\n",
              "      <td>0</td>\n",
              "      <td>1</td>\n",
              "      <td>0</td>\n",
              "      <td>1</td>\n",
              "      <td>0</td>\n",
              "    </tr>\n",
              "  </tbody>\n",
              "</table>\n",
              "</div>"
            ],
            "text/plain": [
              "   Age  Sex  RestBP  Chol  ...  nontypical  typical  normal  reversable\n",
              "0   63    1     145   233  ...           0        1       0           0\n",
              "1   67    1     160   286  ...           0        0       1           0\n",
              "2   67    1     120   229  ...           0        0       0           1\n",
              "3   37    1     130   250  ...           0        0       1           0\n",
              "4   41    0     130   204  ...           1        0       1           0\n",
              "\n",
              "[5 rows x 16 columns]"
            ]
          },
          "metadata": {
            "tags": []
          },
          "execution_count": 41
        }
      ]
    },
    {
      "cell_type": "code",
      "metadata": {
        "id": "OEDfa8klQrl8",
        "colab_type": "code",
        "outputId": "823c1209-cc5b-4856-ebf7-afa0199b85da",
        "colab": {
          "base_uri": "https://localhost:8080/",
          "height": 204
        }
      },
      "source": [
        "X = data.drop('AHD', axis = 1) \n",
        "X.head()"
      ],
      "execution_count": 42,
      "outputs": [
        {
          "output_type": "execute_result",
          "data": {
            "text/html": [
              "<div>\n",
              "<style scoped>\n",
              "    .dataframe tbody tr th:only-of-type {\n",
              "        vertical-align: middle;\n",
              "    }\n",
              "\n",
              "    .dataframe tbody tr th {\n",
              "        vertical-align: top;\n",
              "    }\n",
              "\n",
              "    .dataframe thead th {\n",
              "        text-align: right;\n",
              "    }\n",
              "</style>\n",
              "<table border=\"1\" class=\"dataframe\">\n",
              "  <thead>\n",
              "    <tr style=\"text-align: right;\">\n",
              "      <th></th>\n",
              "      <th>Age</th>\n",
              "      <th>Sex</th>\n",
              "      <th>RestBP</th>\n",
              "      <th>Chol</th>\n",
              "      <th>RestECG</th>\n",
              "      <th>MaxHR</th>\n",
              "      <th>ExAng</th>\n",
              "      <th>Oldpeak</th>\n",
              "      <th>Slope</th>\n",
              "      <th>Ca</th>\n",
              "      <th>nonanginal</th>\n",
              "      <th>nontypical</th>\n",
              "      <th>typical</th>\n",
              "      <th>normal</th>\n",
              "      <th>reversable</th>\n",
              "    </tr>\n",
              "  </thead>\n",
              "  <tbody>\n",
              "    <tr>\n",
              "      <th>0</th>\n",
              "      <td>63</td>\n",
              "      <td>1</td>\n",
              "      <td>145</td>\n",
              "      <td>233</td>\n",
              "      <td>2</td>\n",
              "      <td>150</td>\n",
              "      <td>0</td>\n",
              "      <td>2.3</td>\n",
              "      <td>3</td>\n",
              "      <td>0.0</td>\n",
              "      <td>0</td>\n",
              "      <td>0</td>\n",
              "      <td>1</td>\n",
              "      <td>0</td>\n",
              "      <td>0</td>\n",
              "    </tr>\n",
              "    <tr>\n",
              "      <th>1</th>\n",
              "      <td>67</td>\n",
              "      <td>1</td>\n",
              "      <td>160</td>\n",
              "      <td>286</td>\n",
              "      <td>2</td>\n",
              "      <td>108</td>\n",
              "      <td>1</td>\n",
              "      <td>1.5</td>\n",
              "      <td>2</td>\n",
              "      <td>3.0</td>\n",
              "      <td>0</td>\n",
              "      <td>0</td>\n",
              "      <td>0</td>\n",
              "      <td>1</td>\n",
              "      <td>0</td>\n",
              "    </tr>\n",
              "    <tr>\n",
              "      <th>2</th>\n",
              "      <td>67</td>\n",
              "      <td>1</td>\n",
              "      <td>120</td>\n",
              "      <td>229</td>\n",
              "      <td>2</td>\n",
              "      <td>129</td>\n",
              "      <td>1</td>\n",
              "      <td>2.6</td>\n",
              "      <td>2</td>\n",
              "      <td>2.0</td>\n",
              "      <td>0</td>\n",
              "      <td>0</td>\n",
              "      <td>0</td>\n",
              "      <td>0</td>\n",
              "      <td>1</td>\n",
              "    </tr>\n",
              "    <tr>\n",
              "      <th>3</th>\n",
              "      <td>37</td>\n",
              "      <td>1</td>\n",
              "      <td>130</td>\n",
              "      <td>250</td>\n",
              "      <td>0</td>\n",
              "      <td>187</td>\n",
              "      <td>0</td>\n",
              "      <td>3.5</td>\n",
              "      <td>3</td>\n",
              "      <td>0.0</td>\n",
              "      <td>1</td>\n",
              "      <td>0</td>\n",
              "      <td>0</td>\n",
              "      <td>1</td>\n",
              "      <td>0</td>\n",
              "    </tr>\n",
              "    <tr>\n",
              "      <th>4</th>\n",
              "      <td>41</td>\n",
              "      <td>0</td>\n",
              "      <td>130</td>\n",
              "      <td>204</td>\n",
              "      <td>2</td>\n",
              "      <td>172</td>\n",
              "      <td>0</td>\n",
              "      <td>1.4</td>\n",
              "      <td>1</td>\n",
              "      <td>0.0</td>\n",
              "      <td>0</td>\n",
              "      <td>1</td>\n",
              "      <td>0</td>\n",
              "      <td>1</td>\n",
              "      <td>0</td>\n",
              "    </tr>\n",
              "  </tbody>\n",
              "</table>\n",
              "</div>"
            ],
            "text/plain": [
              "   Age  Sex  RestBP  Chol  ...  nontypical  typical  normal  reversable\n",
              "0   63    1     145   233  ...           0        1       0           0\n",
              "1   67    1     160   286  ...           0        0       1           0\n",
              "2   67    1     120   229  ...           0        0       0           1\n",
              "3   37    1     130   250  ...           0        0       1           0\n",
              "4   41    0     130   204  ...           1        0       1           0\n",
              "\n",
              "[5 rows x 15 columns]"
            ]
          },
          "metadata": {
            "tags": []
          },
          "execution_count": 42
        }
      ]
    },
    {
      "cell_type": "code",
      "metadata": {
        "id": "BFX_fNFnQzTT",
        "colab_type": "code",
        "outputId": "3fd31e39-faba-4ae6-9ddb-7ce0c5fa9c22",
        "colab": {
          "base_uri": "https://localhost:8080/",
          "height": 119
        }
      },
      "source": [
        "y = data['AHD']\n",
        "y.head()"
      ],
      "execution_count": 43,
      "outputs": [
        {
          "output_type": "execute_result",
          "data": {
            "text/plain": [
              "0     No\n",
              "1    Yes\n",
              "2    Yes\n",
              "3     No\n",
              "4     No\n",
              "Name: AHD, dtype: object"
            ]
          },
          "metadata": {
            "tags": []
          },
          "execution_count": 43
        }
      ]
    },
    {
      "cell_type": "markdown",
      "metadata": {
        "id": "1X3n_958zua8",
        "colab_type": "text"
      },
      "source": [
        "### Normalize the numerical columns using standard scaler.\n",
        "\n",
        "Features normalized with standard scaler method will have a mean = 0 and standard deviation = 1"
      ]
    },
    {
      "cell_type": "code",
      "metadata": {
        "id": "roquCBaPsUc6",
        "colab_type": "code",
        "colab": {}
      },
      "source": [
        "scaler = StandardScaler()\n",
        "\n",
        "X_toNormalize = X[['Age', 'RestBP', 'Chol', 'MaxHR', 'Oldpeak']]\n",
        "X_normalized = scaler.fit_transform(X_toNormalize)"
      ],
      "execution_count": 0,
      "outputs": []
    },
    {
      "cell_type": "code",
      "metadata": {
        "id": "n2Wjjb3i3ahd",
        "colab_type": "code",
        "colab": {}
      },
      "source": [
        "X_normal_df = pd.DataFrame(X_normalized)\n",
        "X_normal_df.columns = ['Age', 'RestBP', 'Chol', 'MaxHR', 'Oldpeak']"
      ],
      "execution_count": 0,
      "outputs": []
    },
    {
      "cell_type": "code",
      "metadata": {
        "id": "YDpAbT8K2HK0",
        "colab_type": "code",
        "colab": {}
      },
      "source": [
        "X = X.drop(['Age', 'RestBP', 'Chol', 'MaxHR', 'Oldpeak'], axis = 1)"
      ],
      "execution_count": 0,
      "outputs": []
    },
    {
      "cell_type": "code",
      "metadata": {
        "id": "cWFp00OL3JtW",
        "colab_type": "code",
        "outputId": "d95b6050-b604-422a-c589-b1db7aee073c",
        "colab": {
          "base_uri": "https://localhost:8080/",
          "height": 204
        }
      },
      "source": [
        "X = pd.concat([X, X_normal_df], axis = 1)\n",
        "X.head()"
      ],
      "execution_count": 47,
      "outputs": [
        {
          "output_type": "execute_result",
          "data": {
            "text/html": [
              "<div>\n",
              "<style scoped>\n",
              "    .dataframe tbody tr th:only-of-type {\n",
              "        vertical-align: middle;\n",
              "    }\n",
              "\n",
              "    .dataframe tbody tr th {\n",
              "        vertical-align: top;\n",
              "    }\n",
              "\n",
              "    .dataframe thead th {\n",
              "        text-align: right;\n",
              "    }\n",
              "</style>\n",
              "<table border=\"1\" class=\"dataframe\">\n",
              "  <thead>\n",
              "    <tr style=\"text-align: right;\">\n",
              "      <th></th>\n",
              "      <th>Sex</th>\n",
              "      <th>RestECG</th>\n",
              "      <th>ExAng</th>\n",
              "      <th>Slope</th>\n",
              "      <th>Ca</th>\n",
              "      <th>nonanginal</th>\n",
              "      <th>nontypical</th>\n",
              "      <th>typical</th>\n",
              "      <th>normal</th>\n",
              "      <th>reversable</th>\n",
              "      <th>Age</th>\n",
              "      <th>RestBP</th>\n",
              "      <th>Chol</th>\n",
              "      <th>MaxHR</th>\n",
              "      <th>Oldpeak</th>\n",
              "    </tr>\n",
              "  </thead>\n",
              "  <tbody>\n",
              "    <tr>\n",
              "      <th>0</th>\n",
              "      <td>1</td>\n",
              "      <td>2</td>\n",
              "      <td>0</td>\n",
              "      <td>3</td>\n",
              "      <td>0.0</td>\n",
              "      <td>0</td>\n",
              "      <td>0</td>\n",
              "      <td>1</td>\n",
              "      <td>0</td>\n",
              "      <td>0</td>\n",
              "      <td>0.948726</td>\n",
              "      <td>0.757525</td>\n",
              "      <td>-0.264900</td>\n",
              "      <td>0.017197</td>\n",
              "      <td>1.087338</td>\n",
              "    </tr>\n",
              "    <tr>\n",
              "      <th>1</th>\n",
              "      <td>1</td>\n",
              "      <td>2</td>\n",
              "      <td>1</td>\n",
              "      <td>2</td>\n",
              "      <td>3.0</td>\n",
              "      <td>0</td>\n",
              "      <td>0</td>\n",
              "      <td>0</td>\n",
              "      <td>1</td>\n",
              "      <td>0</td>\n",
              "      <td>1.392002</td>\n",
              "      <td>1.611220</td>\n",
              "      <td>0.760415</td>\n",
              "      <td>-1.821905</td>\n",
              "      <td>0.397182</td>\n",
              "    </tr>\n",
              "    <tr>\n",
              "      <th>2</th>\n",
              "      <td>1</td>\n",
              "      <td>2</td>\n",
              "      <td>1</td>\n",
              "      <td>2</td>\n",
              "      <td>2.0</td>\n",
              "      <td>0</td>\n",
              "      <td>0</td>\n",
              "      <td>0</td>\n",
              "      <td>0</td>\n",
              "      <td>1</td>\n",
              "      <td>1.392002</td>\n",
              "      <td>-0.665300</td>\n",
              "      <td>-0.342283</td>\n",
              "      <td>-0.902354</td>\n",
              "      <td>1.346147</td>\n",
              "    </tr>\n",
              "    <tr>\n",
              "      <th>3</th>\n",
              "      <td>1</td>\n",
              "      <td>0</td>\n",
              "      <td>0</td>\n",
              "      <td>3</td>\n",
              "      <td>0.0</td>\n",
              "      <td>1</td>\n",
              "      <td>0</td>\n",
              "      <td>0</td>\n",
              "      <td>1</td>\n",
              "      <td>0</td>\n",
              "      <td>-1.932564</td>\n",
              "      <td>-0.096170</td>\n",
              "      <td>0.063974</td>\n",
              "      <td>1.637359</td>\n",
              "      <td>2.122573</td>\n",
              "    </tr>\n",
              "    <tr>\n",
              "      <th>4</th>\n",
              "      <td>0</td>\n",
              "      <td>2</td>\n",
              "      <td>0</td>\n",
              "      <td>1</td>\n",
              "      <td>0.0</td>\n",
              "      <td>0</td>\n",
              "      <td>1</td>\n",
              "      <td>0</td>\n",
              "      <td>1</td>\n",
              "      <td>0</td>\n",
              "      <td>-1.489288</td>\n",
              "      <td>-0.096170</td>\n",
              "      <td>-0.825922</td>\n",
              "      <td>0.980537</td>\n",
              "      <td>0.310912</td>\n",
              "    </tr>\n",
              "  </tbody>\n",
              "</table>\n",
              "</div>"
            ],
            "text/plain": [
              "   Sex  RestECG  ExAng  Slope  ...    RestBP      Chol     MaxHR   Oldpeak\n",
              "0    1        2      0      3  ...  0.757525 -0.264900  0.017197  1.087338\n",
              "1    1        2      1      2  ...  1.611220  0.760415 -1.821905  0.397182\n",
              "2    1        2      1      2  ... -0.665300 -0.342283 -0.902354  1.346147\n",
              "3    1        0      0      3  ... -0.096170  0.063974  1.637359  2.122573\n",
              "4    0        2      0      1  ... -0.096170 -0.825922  0.980537  0.310912\n",
              "\n",
              "[5 rows x 15 columns]"
            ]
          },
          "metadata": {
            "tags": []
          },
          "execution_count": 47
        }
      ]
    },
    {
      "cell_type": "code",
      "metadata": {
        "id": "wyxpcMnFQAGI",
        "colab_type": "code",
        "colab": {}
      },
      "source": [
        "# Split the data into train and test dataset\n",
        "x_train, x_test, y_train, y_test = train_test_split(X, y, test_size=0.2, random_state= seed)"
      ],
      "execution_count": 0,
      "outputs": []
    },
    {
      "cell_type": "markdown",
      "metadata": {
        "id": "FmsN22LiPk2h",
        "colab_type": "text"
      },
      "source": [
        "# Model Selection"
      ]
    },
    {
      "cell_type": "markdown",
      "metadata": {
        "id": "K3FNBP4yDVxi",
        "colab_type": "text"
      },
      "source": [
        "### Cross Validation Techniques\n",
        "\n",
        "Repeated k-fold cross validation technique is used.\n",
        "\n",
        "Repeated k-fold CV is k-fold CV repeated for the number of iterations specified, with k-fold containing different data at each iteration."
      ]
    },
    {
      "cell_type": "code",
      "metadata": {
        "id": "yJHfWnZySFa7",
        "colab_type": "code",
        "colab": {}
      },
      "source": [
        "rkf = RepeatedKFold(n_splits = 5, n_repeats = 3, random_state= seed)"
      ],
      "execution_count": 0,
      "outputs": []
    },
    {
      "cell_type": "markdown",
      "metadata": {
        "id": "ZeMnDGqdg331",
        "colab_type": "text"
      },
      "source": [
        "### Grid Search Cross Validation\n",
        "\n",
        "This is used for estimating the parameters of the model which gives the best performance.\n",
        "\n",
        "This is called as 'Hyper-parameter Tuning'"
      ]
    },
    {
      "cell_type": "markdown",
      "metadata": {
        "id": "LWak56ujBngE",
        "colab_type": "text"
      },
      "source": [
        "### Logistic Regression"
      ]
    },
    {
      "cell_type": "code",
      "metadata": {
        "id": "TzcHjqHDBeHz",
        "colab_type": "code",
        "colab": {}
      },
      "source": [
        "log_reg = LogisticRegression()"
      ],
      "execution_count": 0,
      "outputs": []
    },
    {
      "cell_type": "code",
      "metadata": {
        "id": "HvbclYlvEUcf",
        "colab_type": "code",
        "colab": {}
      },
      "source": [
        "param_grid = {'C': [0.001, 0.01, 0.1, 1, 10, 100, 1000] }\n",
        "\n",
        "grid = GridSearchCV(estimator= log_reg, param_grid= param_grid, scoring= 'accuracy', cv= rkf)\n",
        "# fit the train data \n",
        "grid.fit(x_train, y_train)\n",
        "\n",
        "print('Estimator: ', grid.best_estimator_)\n",
        "print('Best params : \\n', grid.best_params_)\n",
        "print('Output Classes: ', grid.classes_)\n",
        "print('Training Accuracy: ', grid.best_score_)"
      ],
      "execution_count": 0,
      "outputs": []
    },
    {
      "cell_type": "code",
      "metadata": {
        "id": "1DObOdjGJoHx",
        "colab_type": "code",
        "outputId": "df9d3572-f51a-4925-ec44-48378f216bd1",
        "colab": {
          "base_uri": "https://localhost:8080/",
          "height": 187
        }
      },
      "source": [
        "# Predictions on test data\n",
        "predictions = grid.predict(x_test)\n",
        "\n",
        "# Model evaluation\n",
        "print(classification_report(y_true= y_test, y_pred= predictions))\n",
        "logit_accuracy = round((accuracy_score(y_true= y_test, y_pred= predictions) * 100), 2)\n",
        "print('Test Accuracy % : ', logit_accuracy)"
      ],
      "execution_count": 53,
      "outputs": [
        {
          "output_type": "stream",
          "text": [
            "              precision    recall  f1-score   support\n",
            "\n",
            "          No       0.83      0.86      0.84        28\n",
            "         Yes       0.88      0.85      0.86        33\n",
            "\n",
            "    accuracy                           0.85        61\n",
            "   macro avg       0.85      0.85      0.85        61\n",
            "weighted avg       0.85      0.85      0.85        61\n",
            "\n",
            "Test Accuracy % :  85.25\n"
          ],
          "name": "stdout"
        }
      ]
    },
    {
      "cell_type": "markdown",
      "metadata": {
        "id": "aoq2xX22cG16",
        "colab_type": "text"
      },
      "source": [
        "### K-Nearest Neighbor Classifier"
      ]
    },
    {
      "cell_type": "code",
      "metadata": {
        "id": "JtgFVm4ocF3S",
        "colab_type": "code",
        "colab": {}
      },
      "source": [
        "knn = KNeighborsClassifier()"
      ],
      "execution_count": 0,
      "outputs": []
    },
    {
      "cell_type": "code",
      "metadata": {
        "id": "7Ut4RZWUcFyO",
        "colab_type": "code",
        "colab": {}
      },
      "source": [
        "n_neighbors = [1, 3, 5, 7, 9, 11, 13, 15, 17, 19, 21, 23, 25]\n",
        "dist_metric = ['minkowski']\n",
        "p_root = [1, 2]\n",
        "\n",
        "parameters = dict(n_neighbors = n_neighbors,\n",
        "                  metric = dist_metric,\n",
        "                  p = p_root)"
      ],
      "execution_count": 0,
      "outputs": []
    },
    {
      "cell_type": "code",
      "metadata": {
        "id": "HiV4o1HncFto",
        "colab_type": "code",
        "outputId": "1faf0fdf-3e12-49ef-f8c2-03118be47dcd",
        "colab": {
          "base_uri": "https://localhost:8080/",
          "height": 190
        }
      },
      "source": [
        "grid = GridSearchCV(estimator= knn, param_grid= parameters, scoring= 'accuracy', cv= rkf)\n",
        "# fit the train data \n",
        "grid.fit(x_train, y_train)\n",
        "\n",
        "print('Estimator: ', grid.best_estimator_)\n",
        "print('Best params : \\n', grid.best_params_)\n",
        "print('Output Classes: ', grid.classes_)\n",
        "print('Training Accuracy: ', grid.best_score_)"
      ],
      "execution_count": 56,
      "outputs": [
        {
          "output_type": "stream",
          "text": [
            "Estimator:  KNeighborsClassifier(algorithm='auto', leaf_size=30, metric='minkowski',\n",
            "                     metric_params=None, n_jobs=None, n_neighbors=19, p=1,\n",
            "                     weights='uniform')\n",
            "Best params : \n",
            " {'metric': 'minkowski', 'n_neighbors': 19, 'p': 1}\n",
            "Output Classes:  ['No' 'Yes']\n",
            "Training Accuracy:  0.8181818181818182\n"
          ],
          "name": "stdout"
        },
        {
          "output_type": "stream",
          "text": [
            "/usr/local/lib/python3.6/dist-packages/sklearn/model_selection/_search.py:814: DeprecationWarning: The default of the `iid` parameter will change from True to False in version 0.22 and will be removed in 0.24. This will change numeric results when test-set sizes are unequal.\n",
            "  DeprecationWarning)\n"
          ],
          "name": "stderr"
        }
      ]
    },
    {
      "cell_type": "code",
      "metadata": {
        "id": "rp0LYCnDcFpL",
        "colab_type": "code",
        "outputId": "19844dbd-7e63-4bc1-b346-11735a297fcf",
        "colab": {
          "base_uri": "https://localhost:8080/",
          "height": 187
        }
      },
      "source": [
        "# Predictions on test data\n",
        "predictions = grid.predict(x_test)\n",
        "\n",
        "# Model evaluation\n",
        "print(classification_report(y_true= y_test, y_pred= predictions))\n",
        "knn_accuracy = round((accuracy_score(y_true= y_test, y_pred= predictions) * 100), 2)\n",
        "print('Test Accuracy % : ', knn_accuracy)"
      ],
      "execution_count": 57,
      "outputs": [
        {
          "output_type": "stream",
          "text": [
            "              precision    recall  f1-score   support\n",
            "\n",
            "          No       0.89      0.86      0.87        28\n",
            "         Yes       0.88      0.91      0.90        33\n",
            "\n",
            "    accuracy                           0.89        61\n",
            "   macro avg       0.89      0.88      0.88        61\n",
            "weighted avg       0.89      0.89      0.89        61\n",
            "\n",
            "Test Accuracy % :  88.52\n"
          ],
          "name": "stdout"
        }
      ]
    },
    {
      "cell_type": "markdown",
      "metadata": {
        "id": "GDiOV2yGRx1p",
        "colab_type": "text"
      },
      "source": [
        "### Decision Tree Classifier"
      ]
    },
    {
      "cell_type": "code",
      "metadata": {
        "id": "1O0NNHxGSolJ",
        "colab_type": "code",
        "colab": {}
      },
      "source": [
        "dtc = DecisionTreeClassifier(random_state= seed)"
      ],
      "execution_count": 0,
      "outputs": []
    },
    {
      "cell_type": "code",
      "metadata": {
        "id": "LjANnnGnPj87",
        "colab_type": "code",
        "colab": {}
      },
      "source": [
        "# Hyperparameter tuning using GridSearchCV for Decision Tree Classifier\n",
        "param_grid = { \n",
        "    'max_depth': range(1, 20),\n",
        "    'criterion' :['entropy', 'gini']\n",
        "}"
      ],
      "execution_count": 0,
      "outputs": []
    },
    {
      "cell_type": "code",
      "metadata": {
        "id": "O1LHPQxDPj5f",
        "colab_type": "code",
        "colab": {}
      },
      "source": [
        "grid = GridSearchCV(estimator= dtc, param_grid= param_grid, scoring= 'accuracy', cv= rkf)"
      ],
      "execution_count": 0,
      "outputs": []
    },
    {
      "cell_type": "code",
      "metadata": {
        "id": "pHFRJ0_3Pj2M",
        "colab_type": "code",
        "outputId": "81f4f20d-9127-44ca-8aef-6af9080b6d2f",
        "colab": {
          "base_uri": "https://localhost:8080/",
          "height": 377
        }
      },
      "source": [
        "# fit the train data \n",
        "grid.fit(x_train, y_train)"
      ],
      "execution_count": 61,
      "outputs": [
        {
          "output_type": "stream",
          "text": [
            "/usr/local/lib/python3.6/dist-packages/sklearn/model_selection/_search.py:814: DeprecationWarning: The default of the `iid` parameter will change from True to False in version 0.22 and will be removed in 0.24. This will change numeric results when test-set sizes are unequal.\n",
            "  DeprecationWarning)\n"
          ],
          "name": "stderr"
        },
        {
          "output_type": "execute_result",
          "data": {
            "text/plain": [
              "GridSearchCV(cv=<sklearn.model_selection._split.RepeatedKFold object at 0x7f515b2dbef0>,\n",
              "             error_score='raise-deprecating',\n",
              "             estimator=DecisionTreeClassifier(class_weight=None,\n",
              "                                              criterion='gini', max_depth=None,\n",
              "                                              max_features=None,\n",
              "                                              max_leaf_nodes=None,\n",
              "                                              min_impurity_decrease=0.0,\n",
              "                                              min_impurity_split=None,\n",
              "                                              min_samples_leaf=1,\n",
              "                                              min_samples_split=2,\n",
              "                                              min_weight_fraction_leaf=0.0,\n",
              "                                              presort=False, random_state=4353,\n",
              "                                              splitter='best'),\n",
              "             iid='warn', n_jobs=None,\n",
              "             param_grid={'criterion': ['entropy', 'gini'],\n",
              "                         'max_depth': range(1, 20)},\n",
              "             pre_dispatch='2*n_jobs', refit=True, return_train_score=False,\n",
              "             scoring='accuracy', verbose=0)"
            ]
          },
          "metadata": {
            "tags": []
          },
          "execution_count": 61
        }
      ]
    },
    {
      "cell_type": "code",
      "metadata": {
        "id": "RiWTnFTGPjy4",
        "colab_type": "code",
        "outputId": "3a0faf8c-d960-44b8-a546-2248b0fd0a97",
        "colab": {
          "base_uri": "https://localhost:8080/",
          "height": 187
        }
      },
      "source": [
        "print('Estimator: ', grid.best_estimator_)\n",
        "print('Best params : \\n', grid.best_params_)\n",
        "print('Output Classes: ', grid.classes_)\n",
        "print('Training Accuracy: ', grid.best_score_)"
      ],
      "execution_count": 62,
      "outputs": [
        {
          "output_type": "stream",
          "text": [
            "Estimator:  DecisionTreeClassifier(class_weight=None, criterion='entropy', max_depth=1,\n",
            "                       max_features=None, max_leaf_nodes=None,\n",
            "                       min_impurity_decrease=0.0, min_impurity_split=None,\n",
            "                       min_samples_leaf=1, min_samples_split=2,\n",
            "                       min_weight_fraction_leaf=0.0, presort=False,\n",
            "                       random_state=4353, splitter='best')\n",
            "Best params : \n",
            " {'criterion': 'entropy', 'max_depth': 1}\n",
            "Output Classes:  ['No' 'Yes']\n",
            "Training Accuracy:  0.7644628099173554\n"
          ],
          "name": "stdout"
        }
      ]
    },
    {
      "cell_type": "code",
      "metadata": {
        "id": "7wlkqU2IPju5",
        "colab_type": "code",
        "colab": {}
      },
      "source": [
        "# Predictions on test data\n",
        "predictions = grid.predict(x_test)"
      ],
      "execution_count": 0,
      "outputs": []
    },
    {
      "cell_type": "code",
      "metadata": {
        "id": "6OsFHgxrPjmq",
        "colab_type": "code",
        "outputId": "f846fb62-b3f5-4b0c-a619-8f4d6ca1c2d0",
        "colab": {
          "base_uri": "https://localhost:8080/",
          "height": 187
        }
      },
      "source": [
        "# Model evaluation\n",
        "print(classification_report(y_true= y_test, y_pred= predictions))\n",
        "dtc_accuracy = round((accuracy_score(y_true= y_test, y_pred= predictions) * 100), 2)\n",
        "print('Test Accuracy % : ', dtc_accuracy)"
      ],
      "execution_count": 64,
      "outputs": [
        {
          "output_type": "stream",
          "text": [
            "              precision    recall  f1-score   support\n",
            "\n",
            "          No       0.72      0.75      0.74        28\n",
            "         Yes       0.78      0.76      0.77        33\n",
            "\n",
            "    accuracy                           0.75        61\n",
            "   macro avg       0.75      0.75      0.75        61\n",
            "weighted avg       0.76      0.75      0.75        61\n",
            "\n",
            "Test Accuracy % :  75.41\n"
          ],
          "name": "stdout"
        }
      ]
    },
    {
      "cell_type": "markdown",
      "metadata": {
        "id": "fxiwKYLOYLim",
        "colab_type": "text"
      },
      "source": [
        "### Random Forest Classifier"
      ]
    },
    {
      "cell_type": "code",
      "metadata": {
        "id": "Obn3STHEYRae",
        "colab_type": "code",
        "colab": {}
      },
      "source": [
        "rfc = RandomForestClassifier(random_state= seed)"
      ],
      "execution_count": 0,
      "outputs": []
    },
    {
      "cell_type": "code",
      "metadata": {
        "id": "wJqQ_oBuPjip",
        "colab_type": "code",
        "colab": {}
      },
      "source": [
        "# Hyperparameter tuning using GridSearchCV for RFC\n",
        "param_grid = { \n",
        "    'max_depth': range(1, 20),\n",
        "    'criterion' :['entropy', 'gini'],\n",
        "    'n_estimators': [100, 200, 300],\n",
        "    'max_features': ['auto', 'sqrt', 'log2']\n",
        "}"
      ],
      "execution_count": 0,
      "outputs": []
    },
    {
      "cell_type": "code",
      "metadata": {
        "id": "3_eZBd50Pjd9",
        "colab_type": "code",
        "outputId": "758bc3ba-4577-4fe2-9d09-1c5501422e14",
        "colab": {
          "base_uri": "https://localhost:8080/",
          "height": 258
        }
      },
      "source": [
        "grid = GridSearchCV(estimator= rfc, param_grid= param_grid, scoring= 'accuracy', cv= rkf)\n",
        "# fit the train data \n",
        "grid.fit(x_train, y_train)\n",
        "\n",
        "print('Estimator: ', grid.best_estimator_)\n",
        "print('Best params : \\n', grid.best_params_)\n",
        "print('Output Classes: ', grid.classes_)\n",
        "print('Training Accuracy: ', grid.best_score_)"
      ],
      "execution_count": 67,
      "outputs": [
        {
          "output_type": "stream",
          "text": [
            "/usr/local/lib/python3.6/dist-packages/sklearn/model_selection/_search.py:814: DeprecationWarning: The default of the `iid` parameter will change from True to False in version 0.22 and will be removed in 0.24. This will change numeric results when test-set sizes are unequal.\n",
            "  DeprecationWarning)\n"
          ],
          "name": "stderr"
        },
        {
          "output_type": "stream",
          "text": [
            "Estimator:  RandomForestClassifier(bootstrap=True, class_weight=None, criterion='entropy',\n",
            "                       max_depth=2, max_features='auto', max_leaf_nodes=None,\n",
            "                       min_impurity_decrease=0.0, min_impurity_split=None,\n",
            "                       min_samples_leaf=1, min_samples_split=2,\n",
            "                       min_weight_fraction_leaf=0.0, n_estimators=300,\n",
            "                       n_jobs=None, oob_score=False, random_state=4353,\n",
            "                       verbose=0, warm_start=False)\n",
            "Best params : \n",
            " {'criterion': 'entropy', 'max_depth': 2, 'max_features': 'auto', 'n_estimators': 300}\n",
            "Output Classes:  ['No' 'Yes']\n",
            "Training Accuracy:  0.8057851239669421\n"
          ],
          "name": "stdout"
        }
      ]
    },
    {
      "cell_type": "code",
      "metadata": {
        "id": "6nZk7HlOaRQC",
        "colab_type": "code",
        "outputId": "f66d928f-2e94-4129-ee95-9d374430dfcb",
        "colab": {
          "base_uri": "https://localhost:8080/",
          "height": 187
        }
      },
      "source": [
        "# Predictions on test data\n",
        "predictions = grid.predict(x_test)\n",
        "\n",
        "# Model evaluation\n",
        "print(classification_report(y_true= y_test, y_pred= predictions))\n",
        "rfc_accuracy = round((accuracy_score(y_true= y_test, y_pred= predictions) * 100), 2)\n",
        "print('Test Accuracy % : ', rfc_accuracy)"
      ],
      "execution_count": 68,
      "outputs": [
        {
          "output_type": "stream",
          "text": [
            "              precision    recall  f1-score   support\n",
            "\n",
            "          No       0.77      0.82      0.79        28\n",
            "         Yes       0.84      0.79      0.81        33\n",
            "\n",
            "    accuracy                           0.80        61\n",
            "   macro avg       0.80      0.80      0.80        61\n",
            "weighted avg       0.81      0.80      0.80        61\n",
            "\n",
            "Test Accuracy % :  80.33\n"
          ],
          "name": "stdout"
        }
      ]
    },
    {
      "cell_type": "markdown",
      "metadata": {
        "id": "cjT8Ey7VfB8N",
        "colab_type": "text"
      },
      "source": [
        "### Support Vector Machine Classifier (SVC)"
      ]
    },
    {
      "cell_type": "code",
      "metadata": {
        "id": "qpl89QtEfJVQ",
        "colab_type": "code",
        "colab": {}
      },
      "source": [
        "svc = SVC(random_state= seed)"
      ],
      "execution_count": 0,
      "outputs": []
    },
    {
      "cell_type": "code",
      "metadata": {
        "id": "6fciP34baRL7",
        "colab_type": "code",
        "colab": {}
      },
      "source": [
        "#Hyperparameter tuning using GridSearchCV for SVM \n",
        "\n",
        "param_grid = [{'kernel': ['rbf'], 'gamma': [1e-3, 1e-4],\n",
        "                     'C': [1, 10, 100, 1000]},\n",
        "                    {'kernel': ['linear'], 'C': [1, 10, 100, 1000]}] #Large Value of parameter C => small margin\n",
        "                                                                     #Small Value of paramerter C => Large margin"
      ],
      "execution_count": 0,
      "outputs": []
    },
    {
      "cell_type": "code",
      "metadata": {
        "id": "KRwHA2p7aRG3",
        "colab_type": "code",
        "outputId": "4d80693a-905c-4d38-8d14-ea0994e06bcd",
        "colab": {
          "base_uri": "https://localhost:8080/",
          "height": 207
        }
      },
      "source": [
        "grid = GridSearchCV(estimator= svc, param_grid= param_grid, scoring= 'accuracy', cv= rkf)\n",
        "# fit the train data \n",
        "grid.fit(x_train, y_train)\n",
        "\n",
        "# Model evaluation\n",
        "print('Estimator: ', grid.best_estimator_)\n",
        "print('Best params : \\n', grid.best_params_)\n",
        "print('Output Classes: ', grid.classes_)\n",
        "print('Training Accuracy: ', grid.best_score_)"
      ],
      "execution_count": 71,
      "outputs": [
        {
          "output_type": "stream",
          "text": [
            "Estimator:  SVC(C=10, cache_size=200, class_weight=None, coef0=0.0,\n",
            "    decision_function_shape='ovr', degree=3, gamma='auto_deprecated',\n",
            "    kernel='linear', max_iter=-1, probability=False, random_state=4353,\n",
            "    shrinking=True, tol=0.001, verbose=False)\n",
            "Best params : \n",
            " {'C': 10, 'kernel': 'linear'}\n",
            "Output Classes:  ['No' 'Yes']\n",
            "Training Accuracy:  0.8333333333333334\n"
          ],
          "name": "stdout"
        },
        {
          "output_type": "stream",
          "text": [
            "/usr/local/lib/python3.6/dist-packages/sklearn/model_selection/_search.py:814: DeprecationWarning: The default of the `iid` parameter will change from True to False in version 0.22 and will be removed in 0.24. This will change numeric results when test-set sizes are unequal.\n",
            "  DeprecationWarning)\n"
          ],
          "name": "stderr"
        }
      ]
    },
    {
      "cell_type": "code",
      "metadata": {
        "id": "MHDmuUt1aRAd",
        "colab_type": "code",
        "outputId": "f13b4d49-d5f1-4bab-fa22-9e7273a8ed95",
        "colab": {
          "base_uri": "https://localhost:8080/",
          "height": 187
        }
      },
      "source": [
        "# Predictions on test data\n",
        "predictions = grid.predict(x_test)\n",
        "\n",
        "print(classification_report(y_true= y_test, y_pred= predictions))\n",
        "svc_accuracy = round((accuracy_score(y_true= y_test, y_pred= predictions) * 100), 2)\n",
        "print('Test Accuracy % : ', svc_accuracy)"
      ],
      "execution_count": 72,
      "outputs": [
        {
          "output_type": "stream",
          "text": [
            "              precision    recall  f1-score   support\n",
            "\n",
            "          No       0.80      0.86      0.83        28\n",
            "         Yes       0.87      0.82      0.84        33\n",
            "\n",
            "    accuracy                           0.84        61\n",
            "   macro avg       0.84      0.84      0.84        61\n",
            "weighted avg       0.84      0.84      0.84        61\n",
            "\n",
            "Test Accuracy % :  83.61\n"
          ],
          "name": "stdout"
        }
      ]
    },
    {
      "cell_type": "markdown",
      "metadata": {
        "id": "fDTL-c9IPOQ8",
        "colab_type": "text"
      },
      "source": [
        "# Model Comparision"
      ]
    },
    {
      "cell_type": "code",
      "metadata": {
        "id": "-_OtPGSaP7oJ",
        "colab_type": "code",
        "colab": {}
      },
      "source": [
        "model = ['Logistic Regression', 'KNN', 'Decision Tree', 'Random Forest', 'SVM']\n",
        "acc = [logit_accuracy, knn_accuracy, dtc_accuracy, rfc_accuracy, svc_accuracy]"
      ],
      "execution_count": 0,
      "outputs": []
    },
    {
      "cell_type": "code",
      "metadata": {
        "id": "gvEqjcX0ONIg",
        "colab_type": "code",
        "outputId": "f1a11a65-8566-4368-b019-26de3b3c70c8",
        "colab": {
          "base_uri": "https://localhost:8080/",
          "height": 337
        }
      },
      "source": [
        "sns.set_style(\"whitegrid\")\n",
        "plt.figure(figsize=(10,5))\n",
        "plt.yticks(np.arange(0,100,10))\n",
        "plt.ylabel(\"Test Accuracy %\")\n",
        "plt.xlabel(\"Machine Learning Model\")\n",
        "sns.barplot(x= model, y= acc)\n",
        "plt.show()"
      ],
      "execution_count": 74,
      "outputs": [
        {
          "output_type": "display_data",
          "data": {
            "image/png": "[encoded data removed]",
            "text/plain": [
              "<Figure size 720x360 with 1 Axes>"
            ]
          },
          "metadata": {
            "tags": []
          }
        }
      ]
    }
  ]
}